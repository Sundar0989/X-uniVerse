{
 "cells": [
  {
   "cell_type": "markdown",
   "metadata": {},
   "source": [
    "# Introduction"
   ]
  },
  {
   "cell_type": "markdown",
   "metadata": {},
   "source": [
    "This notebook walk you through the __xverse__ package in detail. It provides codes for the same, so you can use this as a template to apply on your data."
   ]
  },
  {
   "cell_type": "markdown",
   "metadata": {},
   "source": [
    "# Import data"
   ]
  },
  {
   "cell_type": "code",
   "execution_count": 34,
   "metadata": {
    "collapsed": true
   },
   "outputs": [],
   "source": [
    "import numpy as np\n",
    "import pandas as pd\n",
    "\n",
    "df = pd.read_csv(\"./data/bank.csv\", sep=\"|\")"
   ]
  },
  {
   "cell_type": "code",
   "execution_count": 35,
   "metadata": {},
   "outputs": [
    {
     "data": {
      "text/html": [
       "<div>\n",
       "<style scoped>\n",
       "    .dataframe tbody tr th:only-of-type {\n",
       "        vertical-align: middle;\n",
       "    }\n",
       "\n",
       "    .dataframe tbody tr th {\n",
       "        vertical-align: top;\n",
       "    }\n",
       "\n",
       "    .dataframe thead th {\n",
       "        text-align: right;\n",
       "    }\n",
       "</style>\n",
       "<table border=\"1\" class=\"dataframe\">\n",
       "  <thead>\n",
       "    <tr style=\"text-align: right;\">\n",
       "      <th></th>\n",
       "      <th>age</th>\n",
       "      <th>job</th>\n",
       "      <th>marital</th>\n",
       "      <th>education</th>\n",
       "      <th>default</th>\n",
       "      <th>balance</th>\n",
       "      <th>housing</th>\n",
       "      <th>loan</th>\n",
       "      <th>contact</th>\n",
       "      <th>day</th>\n",
       "      <th>month</th>\n",
       "      <th>duration</th>\n",
       "      <th>campaign</th>\n",
       "      <th>pdays</th>\n",
       "      <th>previous</th>\n",
       "      <th>poutcome</th>\n",
       "      <th>target</th>\n",
       "    </tr>\n",
       "  </thead>\n",
       "  <tbody>\n",
       "    <tr>\n",
       "      <th>0</th>\n",
       "      <td>30</td>\n",
       "      <td>unemployed</td>\n",
       "      <td>married</td>\n",
       "      <td>primary</td>\n",
       "      <td>no</td>\n",
       "      <td>1787</td>\n",
       "      <td>no</td>\n",
       "      <td>no</td>\n",
       "      <td>cellular</td>\n",
       "      <td>19</td>\n",
       "      <td>oct</td>\n",
       "      <td>79</td>\n",
       "      <td>1</td>\n",
       "      <td>-1</td>\n",
       "      <td>0</td>\n",
       "      <td>unknown</td>\n",
       "      <td>0</td>\n",
       "    </tr>\n",
       "    <tr>\n",
       "      <th>1</th>\n",
       "      <td>33</td>\n",
       "      <td>services</td>\n",
       "      <td>married</td>\n",
       "      <td>secondary</td>\n",
       "      <td>no</td>\n",
       "      <td>4789</td>\n",
       "      <td>yes</td>\n",
       "      <td>yes</td>\n",
       "      <td>cellular</td>\n",
       "      <td>11</td>\n",
       "      <td>may</td>\n",
       "      <td>220</td>\n",
       "      <td>1</td>\n",
       "      <td>339</td>\n",
       "      <td>4</td>\n",
       "      <td>failure</td>\n",
       "      <td>0</td>\n",
       "    </tr>\n",
       "    <tr>\n",
       "      <th>2</th>\n",
       "      <td>35</td>\n",
       "      <td>management</td>\n",
       "      <td>single</td>\n",
       "      <td>tertiary</td>\n",
       "      <td>no</td>\n",
       "      <td>1350</td>\n",
       "      <td>yes</td>\n",
       "      <td>no</td>\n",
       "      <td>cellular</td>\n",
       "      <td>16</td>\n",
       "      <td>apr</td>\n",
       "      <td>185</td>\n",
       "      <td>1</td>\n",
       "      <td>330</td>\n",
       "      <td>1</td>\n",
       "      <td>failure</td>\n",
       "      <td>0</td>\n",
       "    </tr>\n",
       "    <tr>\n",
       "      <th>3</th>\n",
       "      <td>30</td>\n",
       "      <td>management</td>\n",
       "      <td>married</td>\n",
       "      <td>tertiary</td>\n",
       "      <td>no</td>\n",
       "      <td>1476</td>\n",
       "      <td>yes</td>\n",
       "      <td>yes</td>\n",
       "      <td>unknown</td>\n",
       "      <td>3</td>\n",
       "      <td>jun</td>\n",
       "      <td>199</td>\n",
       "      <td>4</td>\n",
       "      <td>-1</td>\n",
       "      <td>0</td>\n",
       "      <td>unknown</td>\n",
       "      <td>0</td>\n",
       "    </tr>\n",
       "    <tr>\n",
       "      <th>4</th>\n",
       "      <td>59</td>\n",
       "      <td>blue-collar</td>\n",
       "      <td>married</td>\n",
       "      <td>secondary</td>\n",
       "      <td>no</td>\n",
       "      <td>0</td>\n",
       "      <td>yes</td>\n",
       "      <td>no</td>\n",
       "      <td>unknown</td>\n",
       "      <td>5</td>\n",
       "      <td>may</td>\n",
       "      <td>226</td>\n",
       "      <td>1</td>\n",
       "      <td>-1</td>\n",
       "      <td>0</td>\n",
       "      <td>unknown</td>\n",
       "      <td>0</td>\n",
       "    </tr>\n",
       "  </tbody>\n",
       "</table>\n",
       "</div>"
      ],
      "text/plain": [
       "   age          job  marital  education default  balance housing loan  \\\n",
       "0   30   unemployed  married    primary      no     1787      no   no   \n",
       "1   33     services  married  secondary      no     4789     yes  yes   \n",
       "2   35   management   single   tertiary      no     1350     yes   no   \n",
       "3   30   management  married   tertiary      no     1476     yes  yes   \n",
       "4   59  blue-collar  married  secondary      no        0     yes   no   \n",
       "\n",
       "    contact  day month  duration  campaign  pdays  previous poutcome  target  \n",
       "0  cellular   19   oct        79         1     -1         0  unknown       0  \n",
       "1  cellular   11   may       220         1    339         4  failure       0  \n",
       "2  cellular   16   apr       185         1    330         1  failure       0  \n",
       "3   unknown    3   jun       199         4     -1         0  unknown       0  \n",
       "4   unknown    5   may       226         1     -1         0  unknown       0  "
      ]
     },
     "execution_count": 35,
     "metadata": {},
     "output_type": "execute_result"
    }
   ],
   "source": [
    "df.head()"
   ]
  },
  {
   "cell_type": "markdown",
   "metadata": {},
   "source": [
    "# 1. Feature Subset"
   ]
  },
  {
   "cell_type": "markdown",
   "metadata": {},
   "source": [
    "This option is used to select a subset of features from the dataset. A list of features should be provided to subset. "
   ]
  },
  {
   "cell_type": "code",
   "execution_count": 36,
   "metadata": {},
   "outputs": [
    {
     "name": "stdout",
     "output_type": "stream",
     "text": [
      "['age', 'balance', 'day', 'duration', 'campaign', 'pdays', 'previous', 'target']\n"
     ]
    }
   ],
   "source": [
    "from xverse.feature_subset import FeatureSubset\n",
    "\n",
    "numerical_features = list(df._get_numeric_data().columns)\n",
    "categorical_features = list(df.columns.difference(numerical_features))\n",
    "print(numerical_features)\n",
    "\n",
    "clf = FeatureSubset(numerical_features)  # select only numeric features\n",
    "df = clf.fit_transform(df)  # returns the dataframe with selected features"
   ]
  },
  {
   "cell_type": "code",
   "execution_count": 37,
   "metadata": {},
   "outputs": [
    {
     "data": {
      "text/html": [
       "<div>\n",
       "<style scoped>\n",
       "    .dataframe tbody tr th:only-of-type {\n",
       "        vertical-align: middle;\n",
       "    }\n",
       "\n",
       "    .dataframe tbody tr th {\n",
       "        vertical-align: top;\n",
       "    }\n",
       "\n",
       "    .dataframe thead th {\n",
       "        text-align: right;\n",
       "    }\n",
       "</style>\n",
       "<table border=\"1\" class=\"dataframe\">\n",
       "  <thead>\n",
       "    <tr style=\"text-align: right;\">\n",
       "      <th></th>\n",
       "      <th>age</th>\n",
       "      <th>balance</th>\n",
       "      <th>day</th>\n",
       "      <th>duration</th>\n",
       "      <th>campaign</th>\n",
       "      <th>pdays</th>\n",
       "      <th>previous</th>\n",
       "      <th>target</th>\n",
       "    </tr>\n",
       "  </thead>\n",
       "  <tbody>\n",
       "    <tr>\n",
       "      <th>0</th>\n",
       "      <td>30</td>\n",
       "      <td>1787</td>\n",
       "      <td>19</td>\n",
       "      <td>79</td>\n",
       "      <td>1</td>\n",
       "      <td>-1</td>\n",
       "      <td>0</td>\n",
       "      <td>0</td>\n",
       "    </tr>\n",
       "    <tr>\n",
       "      <th>1</th>\n",
       "      <td>33</td>\n",
       "      <td>4789</td>\n",
       "      <td>11</td>\n",
       "      <td>220</td>\n",
       "      <td>1</td>\n",
       "      <td>339</td>\n",
       "      <td>4</td>\n",
       "      <td>0</td>\n",
       "    </tr>\n",
       "    <tr>\n",
       "      <th>2</th>\n",
       "      <td>35</td>\n",
       "      <td>1350</td>\n",
       "      <td>16</td>\n",
       "      <td>185</td>\n",
       "      <td>1</td>\n",
       "      <td>330</td>\n",
       "      <td>1</td>\n",
       "      <td>0</td>\n",
       "    </tr>\n",
       "    <tr>\n",
       "      <th>3</th>\n",
       "      <td>30</td>\n",
       "      <td>1476</td>\n",
       "      <td>3</td>\n",
       "      <td>199</td>\n",
       "      <td>4</td>\n",
       "      <td>-1</td>\n",
       "      <td>0</td>\n",
       "      <td>0</td>\n",
       "    </tr>\n",
       "    <tr>\n",
       "      <th>4</th>\n",
       "      <td>59</td>\n",
       "      <td>0</td>\n",
       "      <td>5</td>\n",
       "      <td>226</td>\n",
       "      <td>1</td>\n",
       "      <td>-1</td>\n",
       "      <td>0</td>\n",
       "      <td>0</td>\n",
       "    </tr>\n",
       "  </tbody>\n",
       "</table>\n",
       "</div>"
      ],
      "text/plain": [
       "   age  balance  day  duration  campaign  pdays  previous  target\n",
       "0   30     1787   19        79         1     -1         0       0\n",
       "1   33     4789   11       220         1    339         4       0\n",
       "2   35     1350   16       185         1    330         1       0\n",
       "3   30     1476    3       199         4     -1         0       0\n",
       "4   59        0    5       226         1     -1         0       0"
      ]
     },
     "execution_count": 37,
     "metadata": {},
     "output_type": "execute_result"
    }
   ],
   "source": [
    "df.head()\n"
   ]
  },
  {
   "cell_type": "markdown",
   "metadata": {},
   "source": [
    "# 2. Split X and Y"
   ]
  },
  {
   "cell_type": "markdown",
   "metadata": {},
   "source": [
    "This option is used to split the dataset into X and y feature. All it needs is the target column as a list. Using the original dataframe again for this exercise."
   ]
  },
  {
   "cell_type": "code",
   "execution_count": 38,
   "metadata": {
    "collapsed": true
   },
   "outputs": [],
   "source": [
    "df = pd.read_csv(\"./data/bank.csv\", sep=\"|\")"
   ]
  },
  {
   "cell_type": "code",
   "execution_count": 39,
   "metadata": {
    "collapsed": true
   },
   "outputs": [
    {
     "data": {
      "text/plain": [
       "(      age  balance  campaign   contact  day default  duration  education  \\\n",
       " 0      30     1787         1  cellular   19      no        79    primary   \n",
       " 1      33     4789         1  cellular   11      no       220  secondary   \n",
       " 2      35     1350         1  cellular   16      no       185   tertiary   \n",
       " 3      30     1476         4   unknown    3      no       199   tertiary   \n",
       " 4      59        0         1   unknown    5      no       226  secondary   \n",
       " ...   ...      ...       ...       ...  ...     ...       ...        ...   \n",
       " 4516   33     -333         5  cellular   30      no       329  secondary   \n",
       " 4517   57    -3313         1   unknown    9     yes       153   tertiary   \n",
       " 4518   57      295        11  cellular   19      no       151  secondary   \n",
       " 4519   28     1137         4  cellular    6      no       129  secondary   \n",
       " 4520   44     1136         2  cellular    3      no       345   tertiary   \n",
       " \n",
       "      housing            job loan  marital month  pdays poutcome  previous  \n",
       " 0         no     unemployed   no  married   oct     -1  unknown         0  \n",
       " 1        yes       services  yes  married   may    339  failure         4  \n",
       " 2        yes     management   no   single   apr    330  failure         1  \n",
       " 3        yes     management  yes  married   jun     -1  unknown         0  \n",
       " 4        yes    blue-collar   no  married   may     -1  unknown         0  \n",
       " ...      ...            ...  ...      ...   ...    ...      ...       ...  \n",
       " 4516     yes       services   no  married   jul     -1  unknown         0  \n",
       " 4517     yes  self-employed  yes  married   may     -1  unknown         0  \n",
       " 4518      no     technician   no  married   aug     -1  unknown         0  \n",
       " 4519      no    blue-collar   no  married   feb    211    other         3  \n",
       " 4520     yes   entrepreneur  yes   single   apr    249    other         7  \n",
       " \n",
       " [4521 rows x 16 columns],\n",
       " array([0, 0, 0, ..., 0, 0, 0], shape=(4521,)))"
      ]
     },
     "execution_count": 39,
     "metadata": {},
     "output_type": "execute_result"
    }
   ],
   "source": [
    "from xverse.feature_subset import SplitXY\n",
    "\n",
    "clf = SplitXY([\"target\"])  # Split the dataset into X and y\n",
    "X, y = clf.fit_transform(\n",
    "    df\n",
    ")  # returns features (X) dataset and target(Y) as a numpy array\n",
    "(X, y)\n"
   ]
  },
  {
   "cell_type": "code",
   "execution_count": 40,
   "metadata": {},
   "outputs": [
    {
     "data": {
      "text/html": [
       "<div>\n",
       "<style scoped>\n",
       "    .dataframe tbody tr th:only-of-type {\n",
       "        vertical-align: middle;\n",
       "    }\n",
       "\n",
       "    .dataframe tbody tr th {\n",
       "        vertical-align: top;\n",
       "    }\n",
       "\n",
       "    .dataframe thead th {\n",
       "        text-align: right;\n",
       "    }\n",
       "</style>\n",
       "<table border=\"1\" class=\"dataframe\">\n",
       "  <thead>\n",
       "    <tr style=\"text-align: right;\">\n",
       "      <th></th>\n",
       "      <th>age</th>\n",
       "      <th>balance</th>\n",
       "      <th>campaign</th>\n",
       "      <th>contact</th>\n",
       "      <th>day</th>\n",
       "      <th>default</th>\n",
       "      <th>duration</th>\n",
       "      <th>education</th>\n",
       "      <th>housing</th>\n",
       "      <th>job</th>\n",
       "      <th>loan</th>\n",
       "      <th>marital</th>\n",
       "      <th>month</th>\n",
       "      <th>pdays</th>\n",
       "      <th>poutcome</th>\n",
       "      <th>previous</th>\n",
       "    </tr>\n",
       "  </thead>\n",
       "  <tbody>\n",
       "    <tr>\n",
       "      <th>0</th>\n",
       "      <td>30</td>\n",
       "      <td>1787</td>\n",
       "      <td>1</td>\n",
       "      <td>cellular</td>\n",
       "      <td>19</td>\n",
       "      <td>no</td>\n",
       "      <td>79</td>\n",
       "      <td>primary</td>\n",
       "      <td>no</td>\n",
       "      <td>unemployed</td>\n",
       "      <td>no</td>\n",
       "      <td>married</td>\n",
       "      <td>oct</td>\n",
       "      <td>-1</td>\n",
       "      <td>unknown</td>\n",
       "      <td>0</td>\n",
       "    </tr>\n",
       "    <tr>\n",
       "      <th>1</th>\n",
       "      <td>33</td>\n",
       "      <td>4789</td>\n",
       "      <td>1</td>\n",
       "      <td>cellular</td>\n",
       "      <td>11</td>\n",
       "      <td>no</td>\n",
       "      <td>220</td>\n",
       "      <td>secondary</td>\n",
       "      <td>yes</td>\n",
       "      <td>services</td>\n",
       "      <td>yes</td>\n",
       "      <td>married</td>\n",
       "      <td>may</td>\n",
       "      <td>339</td>\n",
       "      <td>failure</td>\n",
       "      <td>4</td>\n",
       "    </tr>\n",
       "    <tr>\n",
       "      <th>2</th>\n",
       "      <td>35</td>\n",
       "      <td>1350</td>\n",
       "      <td>1</td>\n",
       "      <td>cellular</td>\n",
       "      <td>16</td>\n",
       "      <td>no</td>\n",
       "      <td>185</td>\n",
       "      <td>tertiary</td>\n",
       "      <td>yes</td>\n",
       "      <td>management</td>\n",
       "      <td>no</td>\n",
       "      <td>single</td>\n",
       "      <td>apr</td>\n",
       "      <td>330</td>\n",
       "      <td>failure</td>\n",
       "      <td>1</td>\n",
       "    </tr>\n",
       "    <tr>\n",
       "      <th>3</th>\n",
       "      <td>30</td>\n",
       "      <td>1476</td>\n",
       "      <td>4</td>\n",
       "      <td>unknown</td>\n",
       "      <td>3</td>\n",
       "      <td>no</td>\n",
       "      <td>199</td>\n",
       "      <td>tertiary</td>\n",
       "      <td>yes</td>\n",
       "      <td>management</td>\n",
       "      <td>yes</td>\n",
       "      <td>married</td>\n",
       "      <td>jun</td>\n",
       "      <td>-1</td>\n",
       "      <td>unknown</td>\n",
       "      <td>0</td>\n",
       "    </tr>\n",
       "    <tr>\n",
       "      <th>4</th>\n",
       "      <td>59</td>\n",
       "      <td>0</td>\n",
       "      <td>1</td>\n",
       "      <td>unknown</td>\n",
       "      <td>5</td>\n",
       "      <td>no</td>\n",
       "      <td>226</td>\n",
       "      <td>secondary</td>\n",
       "      <td>yes</td>\n",
       "      <td>blue-collar</td>\n",
       "      <td>no</td>\n",
       "      <td>married</td>\n",
       "      <td>may</td>\n",
       "      <td>-1</td>\n",
       "      <td>unknown</td>\n",
       "      <td>0</td>\n",
       "    </tr>\n",
       "  </tbody>\n",
       "</table>\n",
       "</div>"
      ],
      "text/plain": [
       "   age  balance  campaign   contact  day default  duration  education housing  \\\n",
       "0   30     1787         1  cellular   19      no        79    primary      no   \n",
       "1   33     4789         1  cellular   11      no       220  secondary     yes   \n",
       "2   35     1350         1  cellular   16      no       185   tertiary     yes   \n",
       "3   30     1476         4   unknown    3      no       199   tertiary     yes   \n",
       "4   59        0         1   unknown    5      no       226  secondary     yes   \n",
       "\n",
       "           job loan  marital month  pdays poutcome  previous  \n",
       "0   unemployed   no  married   oct     -1  unknown         0  \n",
       "1     services  yes  married   may    339  failure         4  \n",
       "2   management   no   single   apr    330  failure         1  \n",
       "3   management  yes  married   jun     -1  unknown         0  \n",
       "4  blue-collar   no  married   may     -1  unknown         0  "
      ]
     },
     "execution_count": 40,
     "metadata": {},
     "output_type": "execute_result"
    }
   ],
   "source": [
    "X.head()"
   ]
  },
  {
   "cell_type": "code",
   "execution_count": 41,
   "metadata": {},
   "outputs": [
    {
     "data": {
      "text/plain": [
       "array([0, 0, 0, ..., 0, 0, 0], shape=(4521,))"
      ]
     },
     "execution_count": 41,
     "metadata": {},
     "output_type": "execute_result"
    }
   ],
   "source": [
    "y"
   ]
  },
  {
   "cell_type": "markdown",
   "metadata": {},
   "source": [
    "Going forward we will running this function iteratively to demonstrate each of the features. So, I created a prep_dataset option which is shown below. "
   ]
  },
  {
   "cell_type": "code",
   "execution_count": 42,
   "metadata": {
    "collapsed": true
   },
   "outputs": [],
   "source": [
    "def prep_dataset():\n",
    "    df = pd.read_csv(\"./data/bank.csv\", sep=\"|\")\n",
    "\n",
    "    from xverse.feature_subset import SplitXY\n",
    "\n",
    "    clf = SplitXY([\"target\"])  # Split the dataset into X and y\n",
    "    X, y = clf.fit_transform(\n",
    "        df\n",
    "    )  # returns features (X) dataset and target(Y) as a numpy array\n",
    "\n",
    "    return X, y"
   ]
  },
  {
   "cell_type": "markdown",
   "metadata": {
    "collapsed": true
   },
   "source": [
    "# 3. Monotonic Binning for numerical variables"
   ]
  },
  {
   "cell_type": "markdown",
   "metadata": {
    "collapsed": true
   },
   "source": [
    "Monotonically bin numeric variables based on target. The binning operation starts with the \"max_bins\" option. It iterates by reducing the number of bins, until it finds bins with monotonic relationship (either increasing or decreasing) between X and y. If the module is unable to find a monotonic relationship, it forcefully creates bins using the \"force_bins\" option. "
   ]
  },
  {
   "cell_type": "code",
   "execution_count": 43,
   "metadata": {
    "collapsed": true
   },
   "outputs": [],
   "source": [
    "X, y = prep_dataset()"
   ]
  },
  {
   "cell_type": "code",
   "execution_count": 48,
   "metadata": {},
   "outputs": [
    {
     "name": "stdout",
     "output_type": "stream",
     "text": [
      "initiated monotonic binning \n",
      "['age', 'balance', 'campaign', 'day', 'duration', 'pdays', 'previous']\n",
      "bins - [19. 35. 45. 87.] & mapped to {'0': array([19., 35., 45., 87.])}\n"
     ]
    },
    {
     "name": "stderr",
     "output_type": "stream",
     "text": [
      "/data/pyworkspace/xverse-prassee/.venv/lib/python3.12/site-packages/sklearn/utils/deprecation.py:151: FutureWarning: 'force_all_finite' was renamed to 'ensure_all_finite' in 1.6 and will be removed in 1.8.\n",
      "  warnings.warn(\n",
      "/data/pyworkspace/xverse-prassee/xverse/transformer/_binning.py:185: FutureWarning: The default of observed=False is deprecated and will be changed to True in a future version of pandas. Pass observed=False to retain current behavior or observed=True to adopt the future default and silence this warning.\n",
      "  bins_X_grouped = bins_X.groupby(\"Bins\", as_index=True)\n",
      "/data/pyworkspace/xverse-prassee/xverse/transformer/_binning.py:185: FutureWarning: The default of observed=False is deprecated and will be changed to True in a future version of pandas. Pass observed=False to retain current behavior or observed=True to adopt the future default and silence this warning.\n",
      "  bins_X_grouped = bins_X.groupby(\"Bins\", as_index=True)\n",
      "/data/pyworkspace/xverse-prassee/xverse/transformer/_binning.py:185: FutureWarning: The default of observed=False is deprecated and will be changed to True in a future version of pandas. Pass observed=False to retain current behavior or observed=True to adopt the future default and silence this warning.\n",
      "  bins_X_grouped = bins_X.groupby(\"Bins\", as_index=True)\n",
      "/data/pyworkspace/xverse-prassee/xverse/transformer/_binning.py:185: FutureWarning: The default of observed=False is deprecated and will be changed to True in a future version of pandas. Pass observed=False to retain current behavior or observed=True to adopt the future default and silence this warning.\n",
      "  bins_X_grouped = bins_X.groupby(\"Bins\", as_index=True)\n",
      "/data/pyworkspace/xverse-prassee/xverse/transformer/_binning.py:185: FutureWarning: The default of observed=False is deprecated and will be changed to True in a future version of pandas. Pass observed=False to retain current behavior or observed=True to adopt the future default and silence this warning.\n",
      "  bins_X_grouped = bins_X.groupby(\"Bins\", as_index=True)\n",
      "/data/pyworkspace/xverse-prassee/xverse/transformer/_binning.py:185: FutureWarning: The default of observed=False is deprecated and will be changed to True in a future version of pandas. Pass observed=False to retain current behavior or observed=True to adopt the future default and silence this warning.\n",
      "  bins_X_grouped = bins_X.groupby(\"Bins\", as_index=True)\n",
      "/data/pyworkspace/xverse-prassee/xverse/transformer/_binning.py:185: FutureWarning: The default of observed=False is deprecated and will be changed to True in a future version of pandas. Pass observed=False to retain current behavior or observed=True to adopt the future default and silence this warning.\n",
      "  bins_X_grouped = bins_X.groupby(\"Bins\", as_index=True)\n",
      "/data/pyworkspace/xverse-prassee/xverse/transformer/_binning.py:185: FutureWarning: The default of observed=False is deprecated and will be changed to True in a future version of pandas. Pass observed=False to retain current behavior or observed=True to adopt the future default and silence this warning.\n",
      "  bins_X_grouped = bins_X.groupby(\"Bins\", as_index=True)\n",
      "/data/pyworkspace/xverse-prassee/xverse/transformer/_binning.py:185: FutureWarning: The default of observed=False is deprecated and will be changed to True in a future version of pandas. Pass observed=False to retain current behavior or observed=True to adopt the future default and silence this warning.\n",
      "  bins_X_grouped = bins_X.groupby(\"Bins\", as_index=True)\n",
      "/data/pyworkspace/xverse-prassee/xverse/transformer/_binning.py:185: FutureWarning: The default of observed=False is deprecated and will be changed to True in a future version of pandas. Pass observed=False to retain current behavior or observed=True to adopt the future default and silence this warning.\n",
      "  bins_X_grouped = bins_X.groupby(\"Bins\", as_index=True)\n",
      "/data/pyworkspace/xverse-prassee/xverse/transformer/_binning.py:185: FutureWarning: The default of observed=False is deprecated and will be changed to True in a future version of pandas. Pass observed=False to retain current behavior or observed=True to adopt the future default and silence this warning.\n",
      "  bins_X_grouped = bins_X.groupby(\"Bins\", as_index=True)\n",
      "/data/pyworkspace/xverse-prassee/xverse/transformer/_binning.py:185: FutureWarning: The default of observed=False is deprecated and will be changed to True in a future version of pandas. Pass observed=False to retain current behavior or observed=True to adopt the future default and silence this warning.\n",
      "  bins_X_grouped = bins_X.groupby(\"Bins\", as_index=True)\n",
      "/data/pyworkspace/xverse-prassee/xverse/transformer/_binning.py:185: FutureWarning: The default of observed=False is deprecated and will be changed to True in a future version of pandas. Pass observed=False to retain current behavior or observed=True to adopt the future default and silence this warning.\n",
      "  bins_X_grouped = bins_X.groupby(\"Bins\", as_index=True)\n",
      "/data/pyworkspace/xverse-prassee/xverse/transformer/_binning.py:185: FutureWarning: The default of observed=False is deprecated and will be changed to True in a future version of pandas. Pass observed=False to retain current behavior or observed=True to adopt the future default and silence this warning.\n",
      "  bins_X_grouped = bins_X.groupby(\"Bins\", as_index=True)\n",
      "/data/pyworkspace/xverse-prassee/xverse/transformer/_binning.py:185: FutureWarning: The default of observed=False is deprecated and will be changed to True in a future version of pandas. Pass observed=False to retain current behavior or observed=True to adopt the future default and silence this warning.\n",
      "  bins_X_grouped = bins_X.groupby(\"Bins\", as_index=True)\n",
      "/data/pyworkspace/xverse-prassee/xverse/transformer/_binning.py:185: FutureWarning: The default of observed=False is deprecated and will be changed to True in a future version of pandas. Pass observed=False to retain current behavior or observed=True to adopt the future default and silence this warning.\n",
      "  bins_X_grouped = bins_X.groupby(\"Bins\", as_index=True)\n",
      "/data/pyworkspace/xverse-prassee/xverse/transformer/_binning.py:185: FutureWarning: The default of observed=False is deprecated and will be changed to True in a future version of pandas. Pass observed=False to retain current behavior or observed=True to adopt the future default and silence this warning.\n",
      "  bins_X_grouped = bins_X.groupby(\"Bins\", as_index=True)\n",
      "/data/pyworkspace/xverse-prassee/xverse/transformer/_binning.py:185: FutureWarning: The default of observed=False is deprecated and will be changed to True in a future version of pandas. Pass observed=False to retain current behavior or observed=True to adopt the future default and silence this warning.\n",
      "  bins_X_grouped = bins_X.groupby(\"Bins\", as_index=True)\n",
      "/data/pyworkspace/xverse-prassee/xverse/transformer/_binning.py:185: FutureWarning: The default of observed=False is deprecated and will be changed to True in a future version of pandas. Pass observed=False to retain current behavior or observed=True to adopt the future default and silence this warning.\n",
      "  bins_X_grouped = bins_X.groupby(\"Bins\", as_index=True)\n",
      "/data/pyworkspace/xverse-prassee/xverse/transformer/_binning.py:185: FutureWarning: The default of observed=False is deprecated and will be changed to True in a future version of pandas. Pass observed=False to retain current behavior or observed=True to adopt the future default and silence this warning.\n",
      "  bins_X_grouped = bins_X.groupby(\"Bins\", as_index=True)\n",
      "/data/pyworkspace/xverse-prassee/xverse/transformer/_binning.py:185: FutureWarning: The default of observed=False is deprecated and will be changed to True in a future version of pandas. Pass observed=False to retain current behavior or observed=True to adopt the future default and silence this warning.\n",
      "  bins_X_grouped = bins_X.groupby(\"Bins\", as_index=True)\n",
      "/data/pyworkspace/xverse-prassee/xverse/transformer/_binning.py:185: FutureWarning: The default of observed=False is deprecated and will be changed to True in a future version of pandas. Pass observed=False to retain current behavior or observed=True to adopt the future default and silence this warning.\n",
      "  bins_X_grouped = bins_X.groupby(\"Bins\", as_index=True)\n",
      "/data/pyworkspace/xverse-prassee/xverse/transformer/_binning.py:185: FutureWarning: The default of observed=False is deprecated and will be changed to True in a future version of pandas. Pass observed=False to retain current behavior or observed=True to adopt the future default and silence this warning.\n",
      "  bins_X_grouped = bins_X.groupby(\"Bins\", as_index=True)\n",
      "/data/pyworkspace/xverse-prassee/xverse/transformer/_binning.py:185: FutureWarning: The default of observed=False is deprecated and will be changed to True in a future version of pandas. Pass observed=False to retain current behavior or observed=True to adopt the future default and silence this warning.\n",
      "  bins_X_grouped = bins_X.groupby(\"Bins\", as_index=True)\n",
      "/data/pyworkspace/xverse-prassee/xverse/transformer/_binning.py:185: FutureWarning: The default of observed=False is deprecated and will be changed to True in a future version of pandas. Pass observed=False to retain current behavior or observed=True to adopt the future default and silence this warning.\n",
      "  bins_X_grouped = bins_X.groupby(\"Bins\", as_index=True)\n",
      "/data/pyworkspace/xverse-prassee/xverse/transformer/_binning.py:185: FutureWarning: The default of observed=False is deprecated and will be changed to True in a future version of pandas. Pass observed=False to retain current behavior or observed=True to adopt the future default and silence this warning.\n",
      "  bins_X_grouped = bins_X.groupby(\"Bins\", as_index=True)\n",
      "/data/pyworkspace/xverse-prassee/xverse/transformer/_binning.py:185: FutureWarning: The default of observed=False is deprecated and will be changed to True in a future version of pandas. Pass observed=False to retain current behavior or observed=True to adopt the future default and silence this warning.\n",
      "  bins_X_grouped = bins_X.groupby(\"Bins\", as_index=True)\n",
      "/data/pyworkspace/xverse-prassee/xverse/transformer/_binning.py:185: FutureWarning: The default of observed=False is deprecated and will be changed to True in a future version of pandas. Pass observed=False to retain current behavior or observed=True to adopt the future default and silence this warning.\n",
      "  bins_X_grouped = bins_X.groupby(\"Bins\", as_index=True)\n",
      "/data/pyworkspace/xverse-prassee/xverse/transformer/_binning.py:185: FutureWarning: The default of observed=False is deprecated and will be changed to True in a future version of pandas. Pass observed=False to retain current behavior or observed=True to adopt the future default and silence this warning.\n",
      "  bins_X_grouped = bins_X.groupby(\"Bins\", as_index=True)\n",
      "/data/pyworkspace/xverse-prassee/xverse/transformer/_binning.py:185: FutureWarning: The default of observed=False is deprecated and will be changed to True in a future version of pandas. Pass observed=False to retain current behavior or observed=True to adopt the future default and silence this warning.\n",
      "  bins_X_grouped = bins_X.groupby(\"Bins\", as_index=True)\n",
      "/data/pyworkspace/xverse-prassee/xverse/transformer/_binning.py:185: FutureWarning: The default of observed=False is deprecated and will be changed to True in a future version of pandas. Pass observed=False to retain current behavior or observed=True to adopt the future default and silence this warning.\n",
      "  bins_X_grouped = bins_X.groupby(\"Bins\", as_index=True)\n",
      "/data/pyworkspace/xverse-prassee/xverse/transformer/_binning.py:185: FutureWarning: The default of observed=False is deprecated and will be changed to True in a future version of pandas. Pass observed=False to retain current behavior or observed=True to adopt the future default and silence this warning.\n",
      "  bins_X_grouped = bins_X.groupby(\"Bins\", as_index=True)\n",
      "/data/pyworkspace/xverse-prassee/xverse/transformer/_binning.py:185: FutureWarning: The default of observed=False is deprecated and will be changed to True in a future version of pandas. Pass observed=False to retain current behavior or observed=True to adopt the future default and silence this warning.\n",
      "  bins_X_grouped = bins_X.groupby(\"Bins\", as_index=True)\n",
      "/data/pyworkspace/xverse-prassee/xverse/transformer/_binning.py:185: FutureWarning: The default of observed=False is deprecated and will be changed to True in a future version of pandas. Pass observed=False to retain current behavior or observed=True to adopt the future default and silence this warning.\n",
      "  bins_X_grouped = bins_X.groupby(\"Bins\", as_index=True)\n",
      "/data/pyworkspace/xverse-prassee/xverse/transformer/_binning.py:185: FutureWarning: The default of observed=False is deprecated and will be changed to True in a future version of pandas. Pass observed=False to retain current behavior or observed=True to adopt the future default and silence this warning.\n",
      "  bins_X_grouped = bins_X.groupby(\"Bins\", as_index=True)\n",
      "/data/pyworkspace/xverse-prassee/xverse/transformer/_binning.py:185: FutureWarning: The default of observed=False is deprecated and will be changed to True in a future version of pandas. Pass observed=False to retain current behavior or observed=True to adopt the future default and silence this warning.\n",
      "  bins_X_grouped = bins_X.groupby(\"Bins\", as_index=True)\n",
      "/data/pyworkspace/xverse-prassee/xverse/transformer/_binning.py:185: FutureWarning: The default of observed=False is deprecated and will be changed to True in a future version of pandas. Pass observed=False to retain current behavior or observed=True to adopt the future default and silence this warning.\n",
      "  bins_X_grouped = bins_X.groupby(\"Bins\", as_index=True)\n",
      "/data/pyworkspace/xverse-prassee/xverse/transformer/_binning.py:185: FutureWarning: The default of observed=False is deprecated and will be changed to True in a future version of pandas. Pass observed=False to retain current behavior or observed=True to adopt the future default and silence this warning.\n",
      "  bins_X_grouped = bins_X.groupby(\"Bins\", as_index=True)\n",
      "/data/pyworkspace/xverse-prassee/xverse/transformer/_binning.py:185: FutureWarning: The default of observed=False is deprecated and will be changed to True in a future version of pandas. Pass observed=False to retain current behavior or observed=True to adopt the future default and silence this warning.\n",
      "  bins_X_grouped = bins_X.groupby(\"Bins\", as_index=True)\n",
      "/data/pyworkspace/xverse-prassee/xverse/transformer/_binning.py:185: FutureWarning: The default of observed=False is deprecated and will be changed to True in a future version of pandas. Pass observed=False to retain current behavior or observed=True to adopt the future default and silence this warning.\n",
      "  bins_X_grouped = bins_X.groupby(\"Bins\", as_index=True)\n",
      "/data/pyworkspace/xverse-prassee/xverse/transformer/_binning.py:185: FutureWarning: The default of observed=False is deprecated and will be changed to True in a future version of pandas. Pass observed=False to retain current behavior or observed=True to adopt the future default and silence this warning.\n",
      "  bins_X_grouped = bins_X.groupby(\"Bins\", as_index=True)\n",
      "/data/pyworkspace/xverse-prassee/xverse/transformer/_binning.py:185: FutureWarning: The default of observed=False is deprecated and will be changed to True in a future version of pandas. Pass observed=False to retain current behavior or observed=True to adopt the future default and silence this warning.\n",
      "  bins_X_grouped = bins_X.groupby(\"Bins\", as_index=True)\n",
      "/data/pyworkspace/xverse-prassee/xverse/transformer/_binning.py:185: FutureWarning: The default of observed=False is deprecated and will be changed to True in a future version of pandas. Pass observed=False to retain current behavior or observed=True to adopt the future default and silence this warning.\n",
      "  bins_X_grouped = bins_X.groupby(\"Bins\", as_index=True)\n",
      "/data/pyworkspace/xverse-prassee/xverse/transformer/_binning.py:185: FutureWarning: The default of observed=False is deprecated and will be changed to True in a future version of pandas. Pass observed=False to retain current behavior or observed=True to adopt the future default and silence this warning.\n",
      "  bins_X_grouped = bins_X.groupby(\"Bins\", as_index=True)\n",
      "/data/pyworkspace/xverse-prassee/xverse/transformer/_binning.py:185: FutureWarning: The default of observed=False is deprecated and will be changed to True in a future version of pandas. Pass observed=False to retain current behavior or observed=True to adopt the future default and silence this warning.\n",
      "  bins_X_grouped = bins_X.groupby(\"Bins\", as_index=True)\n",
      "/data/pyworkspace/xverse-prassee/xverse/transformer/_binning.py:185: FutureWarning: The default of observed=False is deprecated and will be changed to True in a future version of pandas. Pass observed=False to retain current behavior or observed=True to adopt the future default and silence this warning.\n",
      "  bins_X_grouped = bins_X.groupby(\"Bins\", as_index=True)\n",
      "/data/pyworkspace/xverse-prassee/xverse/transformer/_binning.py:185: FutureWarning: The default of observed=False is deprecated and will be changed to True in a future version of pandas. Pass observed=False to retain current behavior or observed=True to adopt the future default and silence this warning.\n",
      "  bins_X_grouped = bins_X.groupby(\"Bins\", as_index=True)\n",
      "/data/pyworkspace/xverse-prassee/xverse/transformer/_binning.py:185: FutureWarning: The default of observed=False is deprecated and will be changed to True in a future version of pandas. Pass observed=False to retain current behavior or observed=True to adopt the future default and silence this warning.\n",
      "  bins_X_grouped = bins_X.groupby(\"Bins\", as_index=True)\n",
      "/data/pyworkspace/xverse-prassee/xverse/transformer/_binning.py:185: FutureWarning: The default of observed=False is deprecated and will be changed to True in a future version of pandas. Pass observed=False to retain current behavior or observed=True to adopt the future default and silence this warning.\n",
      "  bins_X_grouped = bins_X.groupby(\"Bins\", as_index=True)\n",
      "/data/pyworkspace/xverse-prassee/xverse/transformer/_binning.py:185: FutureWarning: The default of observed=False is deprecated and will be changed to True in a future version of pandas. Pass observed=False to retain current behavior or observed=True to adopt the future default and silence this warning.\n",
      "  bins_X_grouped = bins_X.groupby(\"Bins\", as_index=True)\n",
      "/data/pyworkspace/xverse-prassee/xverse/transformer/_binning.py:185: FutureWarning: The default of observed=False is deprecated and will be changed to True in a future version of pandas. Pass observed=False to retain current behavior or observed=True to adopt the future default and silence this warning.\n",
      "  bins_X_grouped = bins_X.groupby(\"Bins\", as_index=True)\n",
      "/data/pyworkspace/xverse-prassee/xverse/transformer/_binning.py:185: FutureWarning: The default of observed=False is deprecated and will be changed to True in a future version of pandas. Pass observed=False to retain current behavior or observed=True to adopt the future default and silence this warning.\n",
      "  bins_X_grouped = bins_X.groupby(\"Bins\", as_index=True)\n",
      "/data/pyworkspace/xverse-prassee/xverse/transformer/_binning.py:185: FutureWarning: The default of observed=False is deprecated and will be changed to True in a future version of pandas. Pass observed=False to retain current behavior or observed=True to adopt the future default and silence this warning.\n",
      "  bins_X_grouped = bins_X.groupby(\"Bins\", as_index=True)\n",
      "/data/pyworkspace/xverse-prassee/xverse/transformer/_binning.py:185: FutureWarning: The default of observed=False is deprecated and will be changed to True in a future version of pandas. Pass observed=False to retain current behavior or observed=True to adopt the future default and silence this warning.\n",
      "  bins_X_grouped = bins_X.groupby(\"Bins\", as_index=True)\n",
      "/data/pyworkspace/xverse-prassee/xverse/transformer/_binning.py:185: FutureWarning: The default of observed=False is deprecated and will be changed to True in a future version of pandas. Pass observed=False to retain current behavior or observed=True to adopt the future default and silence this warning.\n",
      "  bins_X_grouped = bins_X.groupby(\"Bins\", as_index=True)\n",
      "/data/pyworkspace/xverse-prassee/xverse/transformer/_binning.py:185: FutureWarning: The default of observed=False is deprecated and will be changed to True in a future version of pandas. Pass observed=False to retain current behavior or observed=True to adopt the future default and silence this warning.\n",
      "  bins_X_grouped = bins_X.groupby(\"Bins\", as_index=True)\n",
      "/data/pyworkspace/xverse-prassee/xverse/transformer/_binning.py:185: FutureWarning: The default of observed=False is deprecated and will be changed to True in a future version of pandas. Pass observed=False to retain current behavior or observed=True to adopt the future default and silence this warning.\n",
      "  bins_X_grouped = bins_X.groupby(\"Bins\", as_index=True)\n",
      "/data/pyworkspace/xverse-prassee/xverse/transformer/_binning.py:185: FutureWarning: The default of observed=False is deprecated and will be changed to True in a future version of pandas. Pass observed=False to retain current behavior or observed=True to adopt the future default and silence this warning.\n",
      "  bins_X_grouped = bins_X.groupby(\"Bins\", as_index=True)\n",
      "/data/pyworkspace/xverse-prassee/xverse/transformer/_binning.py:185: FutureWarning: The default of observed=False is deprecated and will be changed to True in a future version of pandas. Pass observed=False to retain current behavior or observed=True to adopt the future default and silence this warning.\n",
      "  bins_X_grouped = bins_X.groupby(\"Bins\", as_index=True)\n",
      "/data/pyworkspace/xverse-prassee/xverse/transformer/_binning.py:185: FutureWarning: The default of observed=False is deprecated and will be changed to True in a future version of pandas. Pass observed=False to retain current behavior or observed=True to adopt the future default and silence this warning.\n",
      "  bins_X_grouped = bins_X.groupby(\"Bins\", as_index=True)\n",
      "/data/pyworkspace/xverse-prassee/xverse/transformer/_binning.py:185: FutureWarning: The default of observed=False is deprecated and will be changed to True in a future version of pandas. Pass observed=False to retain current behavior or observed=True to adopt the future default and silence this warning.\n",
      "  bins_X_grouped = bins_X.groupby(\"Bins\", as_index=True)\n",
      "/data/pyworkspace/xverse-prassee/xverse/transformer/_binning.py:185: FutureWarning: The default of observed=False is deprecated and will be changed to True in a future version of pandas. Pass observed=False to retain current behavior or observed=True to adopt the future default and silence this warning.\n",
      "  bins_X_grouped = bins_X.groupby(\"Bins\", as_index=True)\n",
      "/data/pyworkspace/xverse-prassee/xverse/transformer/_binning.py:185: FutureWarning: The default of observed=False is deprecated and will be changed to True in a future version of pandas. Pass observed=False to retain current behavior or observed=True to adopt the future default and silence this warning.\n",
      "  bins_X_grouped = bins_X.groupby(\"Bins\", as_index=True)\n"
     ]
    },
    {
     "name": "stdout",
     "output_type": "stream",
     "text": [
      "bins - [-3313.           174.           979.33333333 71188.        ] & mapped to {'1': array([-3313.        ,   174.        ,   979.33333333, 71188.        ])}\n",
      "bins - [ 1.  3. 50.] & mapped to {'2': array([ 1.,  3., 50.])}\n",
      "bins - [ 1. 12. 20. 31.] & mapped to {'3': array([ 1., 12., 20., 31.])}\n",
      "bins - [   4.          128.          261.33333333 3025.        ] & mapped to {'4': array([   4.        ,  128.        ,  261.33333333, 3025.        ])}\n",
      "bins - [-1.00e+00 -5.00e-01  1.00e+00  8.71e+02] & mapped to {'5': array([-1.00e+00, -5.00e-01,  1.00e+00,  8.71e+02])}\n",
      "bins - [ 0.  1. 25.] & mapped to {'6': array([ 0.,  1., 25.])}\n"
     ]
    },
    {
     "name": "stderr",
     "output_type": "stream",
     "text": [
      "/data/pyworkspace/xverse-prassee/xverse/transformer/_binning.py:185: FutureWarning: The default of observed=False is deprecated and will be changed to True in a future version of pandas. Pass observed=False to retain current behavior or observed=True to adopt the future default and silence this warning.\n",
      "  bins_X_grouped = bins_X.groupby(\"Bins\", as_index=True)\n",
      "/data/pyworkspace/xverse-prassee/xverse/transformer/_binning.py:185: FutureWarning: The default of observed=False is deprecated and will be changed to True in a future version of pandas. Pass observed=False to retain current behavior or observed=True to adopt the future default and silence this warning.\n",
      "  bins_X_grouped = bins_X.groupby(\"Bins\", as_index=True)\n",
      "/data/pyworkspace/xverse-prassee/xverse/transformer/_binning.py:185: FutureWarning: The default of observed=False is deprecated and will be changed to True in a future version of pandas. Pass observed=False to retain current behavior or observed=True to adopt the future default and silence this warning.\n",
      "  bins_X_grouped = bins_X.groupby(\"Bins\", as_index=True)\n",
      "/data/pyworkspace/xverse-prassee/xverse/transformer/_binning.py:185: FutureWarning: The default of observed=False is deprecated and will be changed to True in a future version of pandas. Pass observed=False to retain current behavior or observed=True to adopt the future default and silence this warning.\n",
      "  bins_X_grouped = bins_X.groupby(\"Bins\", as_index=True)\n",
      "/data/pyworkspace/xverse-prassee/xverse/transformer/_binning.py:185: FutureWarning: The default of observed=False is deprecated and will be changed to True in a future version of pandas. Pass observed=False to retain current behavior or observed=True to adopt the future default and silence this warning.\n",
      "  bins_X_grouped = bins_X.groupby(\"Bins\", as_index=True)\n",
      "/data/pyworkspace/xverse-prassee/xverse/transformer/_binning.py:185: FutureWarning: The default of observed=False is deprecated and will be changed to True in a future version of pandas. Pass observed=False to retain current behavior or observed=True to adopt the future default and silence this warning.\n",
      "  bins_X_grouped = bins_X.groupby(\"Bins\", as_index=True)\n",
      "/data/pyworkspace/xverse-prassee/xverse/transformer/_binning.py:185: FutureWarning: The default of observed=False is deprecated and will be changed to True in a future version of pandas. Pass observed=False to retain current behavior or observed=True to adopt the future default and silence this warning.\n",
      "  bins_X_grouped = bins_X.groupby(\"Bins\", as_index=True)\n",
      "/data/pyworkspace/xverse-prassee/xverse/transformer/_binning.py:185: FutureWarning: The default of observed=False is deprecated and will be changed to True in a future version of pandas. Pass observed=False to retain current behavior or observed=True to adopt the future default and silence this warning.\n",
      "  bins_X_grouped = bins_X.groupby(\"Bins\", as_index=True)\n",
      "/data/pyworkspace/xverse-prassee/xverse/transformer/_binning.py:185: FutureWarning: The default of observed=False is deprecated and will be changed to True in a future version of pandas. Pass observed=False to retain current behavior or observed=True to adopt the future default and silence this warning.\n",
      "  bins_X_grouped = bins_X.groupby(\"Bins\", as_index=True)\n",
      "/data/pyworkspace/xverse-prassee/xverse/transformer/_binning.py:185: FutureWarning: The default of observed=False is deprecated and will be changed to True in a future version of pandas. Pass observed=False to retain current behavior or observed=True to adopt the future default and silence this warning.\n",
      "  bins_X_grouped = bins_X.groupby(\"Bins\", as_index=True)\n",
      "/data/pyworkspace/xverse-prassee/xverse/transformer/_binning.py:185: FutureWarning: The default of observed=False is deprecated and will be changed to True in a future version of pandas. Pass observed=False to retain current behavior or observed=True to adopt the future default and silence this warning.\n",
      "  bins_X_grouped = bins_X.groupby(\"Bins\", as_index=True)\n",
      "/data/pyworkspace/xverse-prassee/xverse/transformer/_binning.py:185: FutureWarning: The default of observed=False is deprecated and will be changed to True in a future version of pandas. Pass observed=False to retain current behavior or observed=True to adopt the future default and silence this warning.\n",
      "  bins_X_grouped = bins_X.groupby(\"Bins\", as_index=True)\n",
      "/data/pyworkspace/xverse-prassee/xverse/transformer/_binning.py:185: FutureWarning: The default of observed=False is deprecated and will be changed to True in a future version of pandas. Pass observed=False to retain current behavior or observed=True to adopt the future default and silence this warning.\n",
      "  bins_X_grouped = bins_X.groupby(\"Bins\", as_index=True)\n",
      "/data/pyworkspace/xverse-prassee/xverse/transformer/_binning.py:185: FutureWarning: The default of observed=False is deprecated and will be changed to True in a future version of pandas. Pass observed=False to retain current behavior or observed=True to adopt the future default and silence this warning.\n",
      "  bins_X_grouped = bins_X.groupby(\"Bins\", as_index=True)\n",
      "/data/pyworkspace/xverse-prassee/xverse/transformer/_binning.py:185: FutureWarning: The default of observed=False is deprecated and will be changed to True in a future version of pandas. Pass observed=False to retain current behavior or observed=True to adopt the future default and silence this warning.\n",
      "  bins_X_grouped = bins_X.groupby(\"Bins\", as_index=True)\n",
      "/data/pyworkspace/xverse-prassee/xverse/transformer/_binning.py:185: FutureWarning: The default of observed=False is deprecated and will be changed to True in a future version of pandas. Pass observed=False to retain current behavior or observed=True to adopt the future default and silence this warning.\n",
      "  bins_X_grouped = bins_X.groupby(\"Bins\", as_index=True)\n",
      "/data/pyworkspace/xverse-prassee/xverse/transformer/_binning.py:185: FutureWarning: The default of observed=False is deprecated and will be changed to True in a future version of pandas. Pass observed=False to retain current behavior or observed=True to adopt the future default and silence this warning.\n",
      "  bins_X_grouped = bins_X.groupby(\"Bins\", as_index=True)\n",
      "/data/pyworkspace/xverse-prassee/xverse/transformer/_binning.py:185: FutureWarning: The default of observed=False is deprecated and will be changed to True in a future version of pandas. Pass observed=False to retain current behavior or observed=True to adopt the future default and silence this warning.\n",
      "  bins_X_grouped = bins_X.groupby(\"Bins\", as_index=True)\n",
      "/data/pyworkspace/xverse-prassee/xverse/transformer/_binning.py:185: FutureWarning: The default of observed=False is deprecated and will be changed to True in a future version of pandas. Pass observed=False to retain current behavior or observed=True to adopt the future default and silence this warning.\n",
      "  bins_X_grouped = bins_X.groupby(\"Bins\", as_index=True)\n"
     ]
    },
    {
     "ename": "KeyError",
     "evalue": "'duration'",
     "output_type": "error",
     "traceback": [
      "\u001b[0;31m---------------------------------------------------------------------------\u001b[0m",
      "\u001b[0;31mKeyError\u001b[0m                                  Traceback (most recent call last)",
      "Cell \u001b[0;32mIn[48], line 5\u001b[0m\n\u001b[1;32m      3\u001b[0m clf \u001b[38;5;241m=\u001b[39m MonotonicBinning()\n\u001b[1;32m      4\u001b[0m clf\u001b[38;5;241m.\u001b[39mfit(X, y)\n\u001b[0;32m----> 5\u001b[0m \u001b[43mclf\u001b[49m\u001b[38;5;241;43m.\u001b[39;49m\u001b[43mtransform\u001b[49m\u001b[43m(\u001b[49m\u001b[43mX\u001b[49m\u001b[43m)\u001b[49m\n",
      "File \u001b[0;32m/data/pyworkspace/xverse-prassee/.venv/lib/python3.12/site-packages/sklearn/utils/_set_output.py:319\u001b[0m, in \u001b[0;36m_wrap_method_output.<locals>.wrapped\u001b[0;34m(self, X, *args, **kwargs)\u001b[0m\n\u001b[1;32m    317\u001b[0m \u001b[38;5;129m@wraps\u001b[39m(f)\n\u001b[1;32m    318\u001b[0m \u001b[38;5;28;01mdef\u001b[39;00m \u001b[38;5;21mwrapped\u001b[39m(\u001b[38;5;28mself\u001b[39m, X, \u001b[38;5;241m*\u001b[39margs, \u001b[38;5;241m*\u001b[39m\u001b[38;5;241m*\u001b[39mkwargs):\n\u001b[0;32m--> 319\u001b[0m     data_to_wrap \u001b[38;5;241m=\u001b[39m \u001b[43mf\u001b[49m\u001b[43m(\u001b[49m\u001b[38;5;28;43mself\u001b[39;49m\u001b[43m,\u001b[49m\u001b[43m \u001b[49m\u001b[43mX\u001b[49m\u001b[43m,\u001b[49m\u001b[43m \u001b[49m\u001b[38;5;241;43m*\u001b[39;49m\u001b[43margs\u001b[49m\u001b[43m,\u001b[49m\u001b[43m \u001b[49m\u001b[38;5;241;43m*\u001b[39;49m\u001b[38;5;241;43m*\u001b[39;49m\u001b[43mkwargs\u001b[49m\u001b[43m)\u001b[49m\n\u001b[1;32m    320\u001b[0m     \u001b[38;5;28;01mif\u001b[39;00m \u001b[38;5;28misinstance\u001b[39m(data_to_wrap, \u001b[38;5;28mtuple\u001b[39m):\n\u001b[1;32m    321\u001b[0m         \u001b[38;5;66;03m# only wrap the first output for cross decomposition\u001b[39;00m\n\u001b[1;32m    322\u001b[0m         return_tuple \u001b[38;5;241m=\u001b[39m (\n\u001b[1;32m    323\u001b[0m             _wrap_data_with_container(method, data_to_wrap[\u001b[38;5;241m0\u001b[39m], X, \u001b[38;5;28mself\u001b[39m),\n\u001b[1;32m    324\u001b[0m             \u001b[38;5;241m*\u001b[39mdata_to_wrap[\u001b[38;5;241m1\u001b[39m:],\n\u001b[1;32m    325\u001b[0m         )\n",
      "File \u001b[0;32m/data/pyworkspace/xverse-prassee/xverse/transformer/_binning.py:286\u001b[0m, in \u001b[0;36mMonotonicBinning.transform\u001b[0;34m(self, X, y)\u001b[0m\n\u001b[1;32m    284\u001b[0m \u001b[38;5;66;03m# determine whether to apply bins or not\u001b[39;00m\n\u001b[1;32m    285\u001b[0m \u001b[38;5;28;01mif\u001b[39;00m fitted \u001b[38;5;241m==\u001b[39m \u001b[38;5;28;01mTrue\u001b[39;00m:  \u001b[38;5;66;03m# apply bins and return\u001b[39;00m\n\u001b[0;32m--> 286\u001b[0m     apply_bins \u001b[38;5;241m=\u001b[39m \u001b[38;5;28;43mself\u001b[39;49m\u001b[38;5;241;43m.\u001b[39;49m\u001b[43mbins\u001b[49m\u001b[43m[\u001b[49m\u001b[43moriginal_column_name\u001b[49m\u001b[43m]\u001b[49m\n\u001b[1;32m    287\u001b[0m     outX[new_column_name] \u001b[38;5;241m=\u001b[39m pd\u001b[38;5;241m.\u001b[39mcut(tempX, apply_bins, include_lowest\u001b[38;5;241m=\u001b[39m\u001b[38;5;28;01mTrue\u001b[39;00m)\n\u001b[1;32m    288\u001b[0m \u001b[38;5;28;01melse\u001b[39;00m:  \u001b[38;5;66;03m# no binning required\u001b[39;00m\n",
      "\u001b[0;31mKeyError\u001b[0m: 'duration'"
     ]
    }
   ],
   "source": [
    "from xverse.transformer import MonotonicBinning\n",
    "\n",
    "clf = MonotonicBinning()\n",
    "clf.fit(X, y)\n",
    "clf.transform(X)"
   ]
  },
  {
   "cell_type": "code",
   "execution_count": 45,
   "metadata": {},
   "outputs": [
    {
     "data": {
      "text/plain": [
       "{'0': array([19., 35., 45., 87.]),\n",
       " '1': array([-3313.        ,   174.        ,   979.33333333, 71188.        ]),\n",
       " '2': array([ 1.,  3., 50.]),\n",
       " '3': array([ 1., 12., 20., 31.]),\n",
       " '4': array([   4.        ,  128.        ,  261.33333333, 3025.        ]),\n",
       " '5': array([-1.00e+00, -5.00e-01,  1.00e+00,  8.71e+02]),\n",
       " '6': array([ 0.,  1., 25.])}"
      ]
     },
     "execution_count": 45,
     "metadata": {},
     "output_type": "execute_result"
    }
   ],
   "source": [
    "clf.bins"
   ]
  },
  {
   "cell_type": "code",
   "execution_count": 46,
   "metadata": {
    "collapsed": true
   },
   "outputs": [],
   "source": [
    "output_bins = clf.bins  # will be used later in this exercise"
   ]
  },
  {
   "cell_type": "code",
   "execution_count": 47,
   "metadata": {
    "collapsed": true
   },
   "outputs": [
    {
     "ename": "KeyError",
     "evalue": "'duration'",
     "output_type": "error",
     "traceback": [
      "\u001b[0;31m---------------------------------------------------------------------------\u001b[0m",
      "\u001b[0;31mKeyError\u001b[0m                                  Traceback (most recent call last)",
      "Cell \u001b[0;32mIn[47], line 1\u001b[0m\n\u001b[0;32m----> 1\u001b[0m out_X \u001b[38;5;241m=\u001b[39m \u001b[43mclf\u001b[49m\u001b[38;5;241;43m.\u001b[39;49m\u001b[43mtransform\u001b[49m\u001b[43m(\u001b[49m\u001b[43mX\u001b[49m\u001b[43m)\u001b[49m\n",
      "File \u001b[0;32m/data/pyworkspace/xverse-prassee/.venv/lib/python3.12/site-packages/sklearn/utils/_set_output.py:319\u001b[0m, in \u001b[0;36m_wrap_method_output.<locals>.wrapped\u001b[0;34m(self, X, *args, **kwargs)\u001b[0m\n\u001b[1;32m    317\u001b[0m \u001b[38;5;129m@wraps\u001b[39m(f)\n\u001b[1;32m    318\u001b[0m \u001b[38;5;28;01mdef\u001b[39;00m \u001b[38;5;21mwrapped\u001b[39m(\u001b[38;5;28mself\u001b[39m, X, \u001b[38;5;241m*\u001b[39margs, \u001b[38;5;241m*\u001b[39m\u001b[38;5;241m*\u001b[39mkwargs):\n\u001b[0;32m--> 319\u001b[0m     data_to_wrap \u001b[38;5;241m=\u001b[39m \u001b[43mf\u001b[49m\u001b[43m(\u001b[49m\u001b[38;5;28;43mself\u001b[39;49m\u001b[43m,\u001b[49m\u001b[43m \u001b[49m\u001b[43mX\u001b[49m\u001b[43m,\u001b[49m\u001b[43m \u001b[49m\u001b[38;5;241;43m*\u001b[39;49m\u001b[43margs\u001b[49m\u001b[43m,\u001b[49m\u001b[43m \u001b[49m\u001b[38;5;241;43m*\u001b[39;49m\u001b[38;5;241;43m*\u001b[39;49m\u001b[43mkwargs\u001b[49m\u001b[43m)\u001b[49m\n\u001b[1;32m    320\u001b[0m     \u001b[38;5;28;01mif\u001b[39;00m \u001b[38;5;28misinstance\u001b[39m(data_to_wrap, \u001b[38;5;28mtuple\u001b[39m):\n\u001b[1;32m    321\u001b[0m         \u001b[38;5;66;03m# only wrap the first output for cross decomposition\u001b[39;00m\n\u001b[1;32m    322\u001b[0m         return_tuple \u001b[38;5;241m=\u001b[39m (\n\u001b[1;32m    323\u001b[0m             _wrap_data_with_container(method, data_to_wrap[\u001b[38;5;241m0\u001b[39m], X, \u001b[38;5;28mself\u001b[39m),\n\u001b[1;32m    324\u001b[0m             \u001b[38;5;241m*\u001b[39mdata_to_wrap[\u001b[38;5;241m1\u001b[39m:],\n\u001b[1;32m    325\u001b[0m         )\n",
      "File \u001b[0;32m/data/pyworkspace/xverse-prassee/xverse/transformer/_binning.py:286\u001b[0m, in \u001b[0;36mMonotonicBinning.transform\u001b[0;34m(self, X, y)\u001b[0m\n\u001b[1;32m    284\u001b[0m \u001b[38;5;66;03m# determine whether to apply bins or not\u001b[39;00m\n\u001b[1;32m    285\u001b[0m \u001b[38;5;28;01mif\u001b[39;00m fitted \u001b[38;5;241m==\u001b[39m \u001b[38;5;28;01mTrue\u001b[39;00m:  \u001b[38;5;66;03m# apply bins and return\u001b[39;00m\n\u001b[0;32m--> 286\u001b[0m     apply_bins \u001b[38;5;241m=\u001b[39m \u001b[38;5;28;43mself\u001b[39;49m\u001b[38;5;241;43m.\u001b[39;49m\u001b[43mbins\u001b[49m\u001b[43m[\u001b[49m\u001b[43moriginal_column_name\u001b[49m\u001b[43m]\u001b[49m\n\u001b[1;32m    287\u001b[0m     outX[new_column_name] \u001b[38;5;241m=\u001b[39m pd\u001b[38;5;241m.\u001b[39mcut(tempX, apply_bins, include_lowest\u001b[38;5;241m=\u001b[39m\u001b[38;5;28;01mTrue\u001b[39;00m)\n\u001b[1;32m    288\u001b[0m \u001b[38;5;28;01melse\u001b[39;00m:  \u001b[38;5;66;03m# no binning required\u001b[39;00m\n",
      "\u001b[0;31mKeyError\u001b[0m: 'duration'"
     ]
    }
   ],
   "source": [
    "out_X = clf.transform(X)"
   ]
  },
  {
   "cell_type": "code",
   "execution_count": 13,
   "metadata": {},
   "outputs": [
    {
     "ename": "NameError",
     "evalue": "name 'out_X' is not defined",
     "output_type": "error",
     "traceback": [
      "\u001b[0;31m---------------------------------------------------------------------------\u001b[0m",
      "\u001b[0;31mNameError\u001b[0m                                 Traceback (most recent call last)",
      "Cell \u001b[0;32mIn[13], line 1\u001b[0m\n\u001b[0;32m----> 1\u001b[0m \u001b[43mout_X\u001b[49m\u001b[38;5;241m.\u001b[39mhead()\n",
      "\u001b[0;31mNameError\u001b[0m: name 'out_X' is not defined"
     ]
    }
   ],
   "source": [
    "out_X.head()"
   ]
  },
  {
   "cell_type": "markdown",
   "metadata": {},
   "source": [
    "## 3.1 Available options in the package for Monotonic binning"
   ]
  },
  {
   "cell_type": "markdown",
   "metadata": {},
   "source": [
    "    Parameters\n",
    "    ----------\n",
    "    feature_names: 'all' or list (default='all')\n",
    "        list of features to perform monotonic binning operation. \n",
    "        - 'all' (default): All features in the dataset will be used\n",
    "        - list of features: ['age', 'income',......]\n",
    "    \n",
    "    max_bins: int (default=20)\n",
    "        Maximum number of bins that can be created for any given variable. The final number of bins created will be less than or equal to this number.\n",
    "        \n",
    "    force_bins: int (default=3)\n",
    "        It forces the module to create bins for a variable, when it cannot find monotonic relationship using \"max_bins\" option. The final number of bins created will be equal to the number specified.\n",
    "        \n",
    "    cardinality_cutoff: int (default=5)\n",
    "        Cutoff to determine if a variable is eligible for monotonic binning operation. Any variable which has unique levels less than this number will be treated as character variables. At this point no binning operation will be performed on the variable and it will return the unique levels as bins for these variable.\n",
    "    \n",
    "    prefix: string (default=None)\n",
    "        Variable prefix to be used for the column created by monotonic binning. \n",
    "        \n",
    "    custom_binning: dict (default=None)\n",
    "        Dictionary structure - {'feature_name': float list}\n",
    "        Example - {'age': [0., 1., 2., 3.]}\n",
    "        Using this parameter, the user can perform custom binning on variables. This parameter is also used to apply previously computed bins for each feature (Score new data). "
   ]
  },
  {
   "cell_type": "markdown",
   "metadata": {},
   "source": [
    "## 3.2 Using the custom binning option in the future to score new data - Monotonic binning"
   ]
  },
  {
   "cell_type": "markdown",
   "metadata": {},
   "source": [
    "If you want to apply the bins on a new data, then simply use the transform function with the custom binning option."
   ]
  },
  {
   "cell_type": "code",
   "execution_count": 16,
   "metadata": {
    "collapsed": true
   },
   "outputs": [],
   "source": [
    "X, y = prep_dataset()"
   ]
  },
  {
   "cell_type": "code",
   "execution_count": null,
   "metadata": {},
   "outputs": [],
   "source": [
    "clf = MonotonicBinning(custom_binning=output_bins)  # output_bins was created earlier\n",
    "\n",
    "out_X = clf.transform(X)\n",
    "out_X.head()"
   ]
  },
  {
   "cell_type": "markdown",
   "metadata": {},
   "source": [
    "## 3.3 What happens if my data has missing values?"
   ]
  },
  {
   "cell_type": "code",
   "execution_count": 18,
   "metadata": {
    "collapsed": true
   },
   "outputs": [],
   "source": [
    "X, y = prep_dataset()"
   ]
  },
  {
   "cell_type": "code",
   "execution_count": 19,
   "metadata": {
    "collapsed": true
   },
   "outputs": [],
   "source": [
    "X = X.mask(np.random.random(X.shape) < 0.1)  # introduce some missing values randomly"
   ]
  },
  {
   "cell_type": "code",
   "execution_count": null,
   "metadata": {},
   "outputs": [],
   "source": [
    "out_X = clf.transform(X)\n",
    "out_X.head()"
   ]
  },
  {
   "cell_type": "markdown",
   "metadata": {
    "collapsed": true
   },
   "source": [
    "As you see above, for the 'balance' feature, the missing value is not considered for binning operation. So, the output dataset will still have missing values. It is advised to impute missing values before you use this operation."
   ]
  },
  {
   "cell_type": "markdown",
   "metadata": {
    "collapsed": true
   },
   "source": [
    "# 4. Weight of Evidence"
   ]
  },
  {
   "cell_type": "code",
   "execution_count": 21,
   "metadata": {
    "collapsed": true
   },
   "outputs": [],
   "source": [
    "X, y = prep_dataset()"
   ]
  },
  {
   "cell_type": "code",
   "execution_count": null,
   "metadata": {},
   "outputs": [],
   "source": [
    "from xverse.transformer import WOE\n",
    "\n",
    "clf = WOE()\n",
    "clf.fit(X, y)"
   ]
  },
  {
   "cell_type": "code",
   "execution_count": null,
   "metadata": {},
   "outputs": [],
   "source": [
    "clf.woe_df.head(10)"
   ]
  },
  {
   "cell_type": "code",
   "execution_count": null,
   "metadata": {},
   "outputs": [],
   "source": [
    "clf.iv_df"
   ]
  },
  {
   "cell_type": "code",
   "execution_count": 25,
   "metadata": {
    "collapsed": true
   },
   "outputs": [],
   "source": [
    "output_woe_bins = clf.woe_bins  # future transformation"
   ]
  },
  {
   "cell_type": "code",
   "execution_count": null,
   "metadata": {},
   "outputs": [],
   "source": [
    "output_woe_bins"
   ]
  },
  {
   "cell_type": "code",
   "execution_count": 27,
   "metadata": {
    "collapsed": true
   },
   "outputs": [],
   "source": [
    "output_mono_bins = clf.mono_custom_binning  # future transformation"
   ]
  },
  {
   "cell_type": "code",
   "execution_count": null,
   "metadata": {},
   "outputs": [],
   "source": [
    "output_mono_bins"
   ]
  },
  {
   "cell_type": "code",
   "execution_count": null,
   "metadata": {},
   "outputs": [],
   "source": [
    "clf.transform(X).head()"
   ]
  },
  {
   "cell_type": "markdown",
   "metadata": {
    "collapsed": true
   },
   "source": [
    "## 4.1 Available options in the package for WOE"
   ]
  },
  {
   "cell_type": "markdown",
   "metadata": {
    "collapsed": true
   },
   "source": [
    "    Parameters\n",
    "    ----------\n",
    "    feature_names: 'all' or list (default='all')\n",
    "        list of features to perform WOE transformation. \n",
    "        - 'all' (default): All categorical features in the dataset will be used\n",
    "        - list of features: ['age', 'income',......]\n",
    "    \n",
    "    exclude_features: list (default=None)\n",
    "        list of features to be excluded from WOE transformation.\n",
    "        - Example - ['age', 'income', .......]\n",
    "        \n",
    "    woe_prefix: string (default=None)\n",
    "        Variable prefix to be used for the column created by WOE transformer. The default value is set 'None'.  \n",
    "        \n",
    "    treat_missing: {'separate', 'mode', 'least_frequent'} (default='separate')\n",
    "        This parameter setting is used to handle missing values in the dataset.\n",
    "        'separate' - Missing values are treated as a own group (category)\n",
    "        'mode' - Missing values are combined with the highest frequent item in the dataset\n",
    "        'least_frequent' - Missing values are combined with the least frequent item in the dataset\n",
    "    \n",
    "    woe_bins: dict of dicts(default=None)\n",
    "        This feature is added as part of future WOE transformations or scoring. If this value is set, then WOE values provided for each of the features here will be used for transformation. Applicable only in the transform method. \n",
    "        Dictionary structure - {'feature_name': float list}\n",
    "        Example - {'education': {'primary' : 0.1, 'tertiary' : 0.5, 'secondary', 0.7}}\n",
    "    \n",
    "    monotonic_binning: bool (default=True)\n",
    "        This parameter is used to perform monotonic binning on numeric variables. If set to False, numeric variables would be ignored.\n",
    "    \n",
    "    mono_feature_names: 'all' or list (default='all')\n",
    "        list of features to perform monotonic binning operation. \n",
    "        - 'all' (default): All features in the dataset will be used\n",
    "        - list of features: ['age', 'income',......]\n",
    "    \n",
    "    mono_max_bins: int (default=20)\n",
    "        Maximum number of bins that can be created for any given variable. The final number of bins created will be less than or equal to this number.\n",
    "        \n",
    "    mono_force_bins: int (default=3)\n",
    "        It forces the module to create bins for a variable, when it cannot find monotonic relationship using \"max_bins\" option. The final number of bins created will be equal to the number specified.\n",
    "        \n",
    "    mono_cardinality_cutoff: int (default=5)\n",
    "        Cutoff to determine if a variable is eligible for monotonic binning operation. Any variable which has unique levels less than this number will be treated as character variables. At this point no binning operation will be performed on the variable and it will return the unique levels as bins for these variable.\n",
    "    \n",
    "    mono_prefix: string (default=None)\n",
    "        Variable prefix to be used for the column created by monotonic binning. \n",
    "        \n",
    "    mono_custom_binning: dict (default=None)\n",
    "        Using this parameter, the user can perform custom binning on variables. This parameter is also used to apply previously computed bins for each feature (Score new data).\n",
    "        Dictionary structure - {'feature_name': float list}\n",
    "        Example - {'age': [0., 1., 2., 3.]}"
   ]
  },
  {
   "cell_type": "markdown",
   "metadata": {
    "collapsed": true
   },
   "source": [
    "## 4.2 Using the custom binning option in the future to score new data - WOE"
   ]
  },
  {
   "cell_type": "markdown",
   "metadata": {
    "collapsed": true
   },
   "source": [
    "If you want to apply the bins on a new data, then simply use the transform function with the binning option available in WOE."
   ]
  },
  {
   "cell_type": "code",
   "execution_count": 30,
   "metadata": {
    "collapsed": true
   },
   "outputs": [],
   "source": [
    "X, y = prep_dataset()"
   ]
  },
  {
   "cell_type": "code",
   "execution_count": null,
   "metadata": {},
   "outputs": [],
   "source": [
    "clf = WOE(\n",
    "    woe_bins=output_woe_bins, mono_custom_binning=output_mono_bins\n",
    ")  # output_bins was created earlier\n",
    "\n",
    "out_X = clf.transform(X)\n",
    "out_X.head()"
   ]
  },
  {
   "cell_type": "markdown",
   "metadata": {
    "collapsed": true
   },
   "source": [
    "## 4.3 What happens if my data has missing values?"
   ]
  },
  {
   "cell_type": "markdown",
   "metadata": {},
   "source": [
    "Use one of the options below to handle missing values"
   ]
  },
  {
   "cell_type": "markdown",
   "metadata": {
    "collapsed": true
   },
   "source": [
    "    Parameters\n",
    "    ----------\n",
    "    treat_missing: {'separate', 'mode', 'least_frequent'} (default='separate')\n",
    "        This parameter setting is used to handle missing values in the dataset.\n",
    "        'separate' - Missing values are treated as a own group (category)\n",
    "        'mode' - Missing values are combined with the highest frequent item in the dataset\n",
    "        'least_frequent' - Missing values are combined with the least frequent item in the dataset"
   ]
  },
  {
   "cell_type": "code",
   "execution_count": 32,
   "metadata": {
    "collapsed": true
   },
   "outputs": [],
   "source": [
    "X, y = prep_dataset()"
   ]
  },
  {
   "cell_type": "code",
   "execution_count": 33,
   "metadata": {
    "collapsed": true
   },
   "outputs": [],
   "source": [
    "clf = WOE(treat_missing=\"mode\")"
   ]
  },
  {
   "cell_type": "code",
   "execution_count": null,
   "metadata": {},
   "outputs": [],
   "source": [
    "clf.fit(X, y)"
   ]
  },
  {
   "cell_type": "code",
   "execution_count": null,
   "metadata": {},
   "outputs": [],
   "source": [
    "clf.transform(X).head()"
   ]
  },
  {
   "cell_type": "code",
   "execution_count": 36,
   "metadata": {
    "collapsed": true
   },
   "outputs": [],
   "source": [
    "clf.woe_prefix = \"woe\"  # use this if you want to create a new column instead of replacing the existing column"
   ]
  },
  {
   "cell_type": "code",
   "execution_count": null,
   "metadata": {},
   "outputs": [],
   "source": [
    "clf.transform(X).head()"
   ]
  },
  {
   "cell_type": "markdown",
   "metadata": {},
   "source": [
    "## 4.4 Graph chart"
   ]
  },
  {
   "cell_type": "code",
   "execution_count": 38,
   "metadata": {
    "collapsed": true
   },
   "outputs": [],
   "source": [
    "from xverse.graph import BarCharts"
   ]
  },
  {
   "cell_type": "code",
   "execution_count": 39,
   "metadata": {
    "collapsed": true
   },
   "outputs": [],
   "source": [
    "woe_df = clf.woe_df"
   ]
  },
  {
   "cell_type": "code",
   "execution_count": 45,
   "metadata": {
    "collapsed": true
   },
   "outputs": [],
   "source": [
    "clf = BarCharts(bar_type=\"v\")"
   ]
  },
  {
   "cell_type": "code",
   "execution_count": null,
   "metadata": {},
   "outputs": [],
   "source": [
    "# %matplotlib inline\n",
    "clf.plot(woe_df)"
   ]
  },
  {
   "cell_type": "markdown",
   "metadata": {
    "collapsed": true
   },
   "source": [
    "# 5. VotingSelector"
   ]
  },
  {
   "cell_type": "markdown",
   "metadata": {},
   "source": [
    "Select the input features for a binary model prediction using voting technique. Apply multiple feature selection techniques (Linear and Non linear) on the dataset and calculate the vote secured by all input features for a given binary target."
   ]
  },
  {
   "cell_type": "code",
   "execution_count": 47,
   "metadata": {
    "collapsed": true
   },
   "outputs": [],
   "source": [
    "X, y = prep_dataset()"
   ]
  },
  {
   "cell_type": "code",
   "execution_count": null,
   "metadata": {},
   "outputs": [],
   "source": [
    "from xverse.ensemble import VotingSelector\n",
    "\n",
    "clf = VotingSelector()\n",
    "clf.fit(X, y)"
   ]
  },
  {
   "cell_type": "code",
   "execution_count": null,
   "metadata": {},
   "outputs": [],
   "source": [
    "clf.available_techniques"
   ]
  },
  {
   "cell_type": "code",
   "execution_count": null,
   "metadata": {},
   "outputs": [],
   "source": [
    "clf.feature_importances_"
   ]
  },
  {
   "cell_type": "code",
   "execution_count": null,
   "metadata": {},
   "outputs": [],
   "source": [
    "clf.feature_votes_"
   ]
  },
  {
   "cell_type": "code",
   "execution_count": null,
   "metadata": {},
   "outputs": [],
   "source": [
    "clf.transform(X).head()"
   ]
  },
  {
   "cell_type": "markdown",
   "metadata": {},
   "source": [
    "## 5.1 Available options in the package for VotingSelector"
   ]
  },
  {
   "cell_type": "markdown",
   "metadata": {},
   "source": [
    "    Parameters\n",
    "    ----------\n",
    "    \n",
    "    feature_names: 'all' or list (default='all')\n",
    "        list of features to perform WOE transformation. \n",
    "        'all' (default) - All categorical features in the dataset will be used\n",
    "        list of features - ['age', 'income',......]\n",
    "    \n",
    "    exclude_features: list (default=None)\n",
    "        list of features to be excluded from WOE transformation.\n",
    "        - Example - ['age', 'income', .......]\n",
    "    \n",
    "    selection_techniques: 'all', 'quick' or list(default='all')\n",
    "        List of selection techniques to be applied on the data. Available techniques - Weight of evidence ('WOE'), Random Forest ('RF'), Recursive Feature Elimination ('RFE'), Extra Trees Classifier ('ETC'), Chi Square ('CS'), L1 feature selection ('L_ONE').\n",
    "        \n",
    "        'all' - Apply all selection techniques ['WOE', 'RF', 'RFE', 'ETC', 'CS', 'L_ONE']\n",
    "        'quick' - ['WOE','RF','ETC']\n",
    "        list - user provided list of feature selection techniques from available techniques \n",
    "    \n",
    "    no_of_featues: 'auto', 'sqrt' or int(default='auto')\n",
    "        Number of features to be selected by each selection technique.\n",
    "        'auto' - len(features)/2\n",
    "        'sqrt' - sqrt(len(features)) rounded to the lowest number\n",
    "        int - user provided number in integer format\n",
    "    \n",
    "    handle_category= 'woe' or 'le' (default='woe')\n",
    "        Handle category values transformation using Label encoder or Weight of Evidence option. Takes care of missing values too. It treats missing values as separate level.\n",
    "        'woe' - use weight of evidence transformation\n",
    "        'le' - use label encoder transformation\n",
    "    \n",
    "    numerical_missing_values= 'median', 'mean' or 0 (default='median')\n",
    "        Handle numerical variable missing values.\n",
    "        'median' - use median of the column\n",
    "        'mean' - use mean of the column\n",
    "        0 - use 0 to impute the missing values\n",
    "    \n",
    "    minimum_votes = int (default=0)\n",
    "        Minimum number of votes needed to select a variable after feature selection. Only used in the transform process. Default value is set to 0 to select all variables."
   ]
  },
  {
   "cell_type": "markdown",
   "metadata": {},
   "source": [
    "## 5.2 Future transformation and select variables with minimum number of votes"
   ]
  },
  {
   "cell_type": "code",
   "execution_count": 53,
   "metadata": {
    "collapsed": true
   },
   "outputs": [],
   "source": [
    "clf.minimum_votes = 3  # select variables whihc got atleast 3 votes"
   ]
  },
  {
   "cell_type": "code",
   "execution_count": null,
   "metadata": {},
   "outputs": [],
   "source": [
    "clf.transform(X).head()"
   ]
  },
  {
   "cell_type": "markdown",
   "metadata": {},
   "source": [
    "## 5.3 Subset feature selection option"
   ]
  },
  {
   "cell_type": "code",
   "execution_count": null,
   "metadata": {},
   "outputs": [],
   "source": [
    "clf = VotingSelector(selection_techniques=[\"WOE\", \"RF\", \"RFE\", \"ETC\"])\n",
    "clf.fit(X, y)"
   ]
  },
  {
   "cell_type": "code",
   "execution_count": null,
   "metadata": {},
   "outputs": [],
   "source": [
    "clf.feature_votes_"
   ]
  },
  {
   "cell_type": "markdown",
   "metadata": {},
   "source": [
    "# 6. Pipeline feature"
   ]
  },
  {
   "cell_type": "code",
   "execution_count": 57,
   "metadata": {
    "collapsed": true
   },
   "outputs": [],
   "source": [
    "from sklearn.pipeline import Pipeline\n",
    "\n",
    "clf = Pipeline(\n",
    "    steps=[(\"split_x_y\", SplitXY([\"target\"])), (\"feature_votes\", VotingSelector())]\n",
    ")"
   ]
  },
  {
   "cell_type": "code",
   "execution_count": null,
   "metadata": {},
   "outputs": [],
   "source": [
    "clf.fit(df, df[\"target\"])"
   ]
  },
  {
   "cell_type": "code",
   "execution_count": null,
   "metadata": {},
   "outputs": [],
   "source": [
    "clf.transform(df).head()"
   ]
  },
  {
   "cell_type": "code",
   "execution_count": null,
   "metadata": {
    "collapsed": true
   },
   "outputs": [],
   "source": []
  },
  {
   "cell_type": "code",
   "execution_count": null,
   "metadata": {
    "collapsed": true
   },
   "outputs": [],
   "source": []
  }
 ],
 "metadata": {
  "kernelspec": {
   "display_name": ".venv",
   "language": "python",
   "name": "python3"
  },
  "language_info": {
   "codemirror_mode": {
    "name": "ipython",
    "version": 3
   },
   "file_extension": ".py",
   "mimetype": "text/x-python",
   "name": "python",
   "nbconvert_exporter": "python",
   "pygments_lexer": "ipython3",
   "version": "3.12.7"
  }
 },
 "nbformat": 4,
 "nbformat_minor": 2
}
